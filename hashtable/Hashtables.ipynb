{
 "cells": [
  {
   "cell_type": "markdown",
   "id": "conditional-collector",
   "metadata": {},
   "source": [
    "### HASHTABLES"
   ]
  },
  {
   "cell_type": "markdown",
   "id": "technical-luther",
   "metadata": {},
   "source": [
    "Vamos começar nossos estudos de uma das estruturas mais quentes e requisitadas em quase todas as entrevistas em grandes empresas. Compreender hashtables não só vai fazer com que você se torne um programador(a) muito melhor mas também vai aumentar em muito o seu nível de compreenção (e malandragrem) na hora de desenhar algoritmos.\n"
   ]
  },
  {
   "cell_type": "markdown",
   "id": "daily-modification",
   "metadata": {},
   "source": [
    "### Mas porque raios estou aprendendo isso ?\n",
    "\n",
    "Bom, não só você tem uma prova sobre esse conteúdo (rsrs) mas também hashtables (e os conceitos envolvidos nela) são largamento aplicados na industria. Sistemas de caching, load balancers, criptomoedas... tudo isso usa em algum ponto alguns desses conceitos!"
   ]
  },
  {
   "cell_type": "markdown",
   "id": "graduate-rebate",
   "metadata": {},
   "source": [
    "### TL;TR\n",
    "\n",
    "Bora lá, coloca o miojo no fogo e vamos passar rapidinho sobre o que é uma hashtable.\n",
    "\n",
    "Praticamente hashtable é uma estrutura de dados que consegue fazer buscas e inserções em tempo **médio** constante. \n",
    "\n",
    "A ideia de uma hashtable é pegar uma determinada chave, enviar essa chave para uma função de hashing que irá retornar um número referente a essa chave e após isso endereçamos esse número a um vetor usando um pouco de aritmética modular.\n",
    "\n",
    "A função de hashing pode gerar o mesmo número para diferentes chaves e portanto o endereçamento no vetor será o mesmo, para esse fenômeno damos o nome de **colisão**.\n",
    "\n",
    "\n",
    "Isso é apenas um resumo bem por cima sobre o conceito, vamos discutir mais nas próximas secções.\n"
   ]
  },
  {
   "cell_type": "markdown",
   "id": "pregnant-milton",
   "metadata": {},
   "source": [
    "# Introdução a Hash tables\n",
    "\n",
    "\n",
    "A ideia da tabela hash é muito semelhante à consulta de vetores. Uma tabela hash consiste em uma tabela (implementada por um vetor) que tem um determinado endereço, essa tabela tem um determinado tamanho dentro da memória.\n",
    "\n",
    "Python\n",
    "\n",
    "```python3\n",
    "\n",
    "hashtable = [0]*100\n",
    "```\n",
    "\n",
    "C\n",
    "```c\n",
    "int hashtable[100];\n",
    "```\n",
    "\n",
    "\n",
    "A vantagem de implementarmos como um vetor é que podemos consultar um endereço em tempo constante usando **hashtable[i]**. \n",
    "\n",
    "Até esse ponto a tabela hash não se diferencia nada em comparação com o vetor, e é ae que os algoritmos de hashing entram. O algoritmo de hashing é capaz de pegar um elemento qualquer e endereçar o mesmo para um endereço da tabela. "
   ]
  },
  {
   "attachments": {
    "image-2.png": {
     "image/png": "[encoded data removed]"
    }
   },
   "cell_type": "markdown",
   "id": "ongoing-three",
   "metadata": {},
   "source": [
    "# Vamos falar sobre funções \n",
    "\n",
    "Antes de continuarmos, queria muito revisar um determinado tipo de funções com vocês, as funções sobrejetoras!\n",
    "\n",
    "![image-2.png](attachment:image-2.png)\n",
    "\n",
    "Bom... essa é a revisão!\n",
    "\n",
    "Brincadeira, como visto na imagem as funções sobrejetoras tem a caracteristica especial de conseguir mapear diferentes números para o mesmo contradominio. Quer um exemplo de função sobrejetora e um exemplo desse mapeamento ? Rode a celula abaixo."
   ]
  },
  {
   "cell_type": "code",
   "execution_count": 7,
   "id": "younger-lancaster",
   "metadata": {},
   "outputs": [
    {
     "name": "stdout",
     "output_type": "stream",
     "text": [
      "1\n",
      "1\n"
     ]
    }
   ],
   "source": [
    "def f(x):\n",
    "    N = 4\n",
    "    return x%N\n",
    "\n",
    "print(f(5))\n",
    "print(f(9))"
   ]
  },
  {
   "cell_type": "markdown",
   "id": "becoming-green",
   "metadata": {},
   "source": [
    "Essa função é particurlamente interessante porque podemos pegar um número absurdo e colocar em um espaço muito menor!"
   ]
  },
  {
   "cell_type": "code",
   "execution_count": 15,
   "id": "vocal-flexibility",
   "metadata": {},
   "outputs": [
    {
     "data": {
      "text/plain": [
       "3"
      ]
     },
     "execution_count": 15,
     "metadata": {},
     "output_type": "execute_result"
    }
   ],
   "source": [
    "f(3**25) # 3^25"
   ]
  },
  {
   "cell_type": "markdown",
   "id": "convenient-yahoo",
   "metadata": {},
   "source": [
    "## Hashing\n",
    "\n",
    "Segundo a [wikedia(US)](https://en.wikipedia.org/wiki/Hash_function): *A hash function is any function that can be used to map data of arbitrary size to fixed-size values*. \n",
    "\n",
    "Em resumo, uma função de hashing é uma função sobrejetora. E isso vai ser útil pois como definimos anteriormente, uma tabela hash tem a capacidade de inserir em seu espaço de endereçamento elementos muito maiores.\n",
    "\n",
    "Por exemplo, considere uma tabela de 6 elementos em que função de hash é dada por **f(x) = x%N** e estamos inserindo o número 200 nessa tabela. A visualização dessa inserção é exemplificada pela seguinte imagem.\n",
    "\n",
    " ![exemplo1](img/hash_example1.png)\n",
    " \n",
    " Como podemos ver, conseguimos inserir o número 200 em um espaço muito menor. E agora se quisermos consultar se o 200 esta na lista apenas precisamos fazer o hash e consultar a célula no endereço dado.\n",
    " "
   ]
  },
  {
   "cell_type": "markdown",
   "id": "isolated-fifteen",
   "metadata": {},
   "source": [
    "### Introdução a colisão\n",
    "\n",
    "Porém nem tudo são flores, assim como 200 pode ir para o endereço 2 também iremos querer inserir elementos que tem o mesmo valor no hash (mesmo endereço na tabela) em nossa tabela. Um exemplo é o valor 8, 14, 32... todos iriam ao mesmo endereço e isso causaria o que chamamos de **colisão**"
   ]
  },
  {
   "cell_type": "markdown",
   "id": "asian-allah",
   "metadata": {},
   "source": [
    "## Como podemos resolver colisões ?"
   ]
  },
  {
   "cell_type": "markdown",
   "id": "likely-engagement",
   "metadata": {},
   "source": [
    "Existem três formas principais de resolver colisões, vou demoninar essas técnicas pela tradução direta do livro livro texto.\n",
    "\n",
    "* Separate Chain\n",
    "* Linear probing\n",
    "* Double Hashing\n",
    "\n",
    "Vamos conversar sobre cada uma delas"
   ]
  },
  {
   "cell_type": "markdown",
   "id": "decreased-workplace",
   "metadata": {},
   "source": [
    "### Cadeia Sparada \n",
    "\n",
    "A cadeira separada tem um conceito bem simples, para cada colisão em um endereço da nossa tabela principal criamos uma estrutura de dados que salva todos os elementos com o mesmo endereço. Essa estrutura de dados podem ser qualquer estrutura como uma árvore binária, lista ou outra estrutura de busca. \n",
    "\n",
    "O grande problema com esse método é que temos um overhead maior no uso da memória, precisamos além de salvar a tabela também mantermos essa estrutura. A escolha da estrutura também pode afetar no custo de memória, por exemplo uma árvore binária vai consumir o dobro de ponteiros que uma lista simples.\n",
    "\n",
    "É importante dizer que a ideia da hash table consiste em diminuir o número de colisões e quando elas acontecem, trata-las de forma graciosa. Isso quer dizer que uma tabela bem implementada vai sempre tentar ter menos colisões possíveis e portanto, uma estrutura de dados como árvores pode não se valer, pois provavelmente terão poucos elementos dentro de sua estrutura. Objetivamente, listas encadeadas são uma boa alternativa."
   ]
  },
  {
   "cell_type": "code",
   "execution_count": null,
   "id": "broke-dietary",
   "metadata": {},
   "outputs": [],
   "source": [
    "Em python essa implementação ficaria assim"
   ]
  },
  {
   "cell_type": "code",
   "execution_count": 23,
   "id": "included-beauty",
   "metadata": {},
   "outputs": [
    {
     "name": "stdout",
     "output_type": "stream",
     "text": [
      "[[], [], [], [], [], [], [], [], [], []]\n",
      "[[200, 20], [21], [], [], [], [], [], [], [], []]\n"
     ]
    }
   ],
   "source": [
    "from typing import List\n",
    "Vector = List # em python, listas são implementas em blocos (vetores) então vamos dar essa licença poética\n",
    "\n",
    "N = 10\n",
    "# apenas cria um vetor, acredite em mim\n",
    "hashtable: Vector[List[int]] = [[] for _ in range(N)]\n",
    "\n",
    "\n",
    "def hash_f(x):\n",
    "    return x%N\n",
    "\n",
    "def insert_element(element: int) -> None:\n",
    "    address:int  = hash_f(element)\n",
    "\n",
    "    hashtable[address].append(element)\n",
    "\n",
    "insert_element(200)\n",
    "insert_element(20)\n",
    "insert_element(21)\n",
    "\n",
    "print(hashtable)\n"
   ]
  },
  {
   "cell_type": "markdown",
   "id": "going-handling",
   "metadata": {},
   "source": [
    "Como podemos observar, o número 200 e 20 foi salvo na mesma cadeia no indice 0 enquanto o número 21 foi salvo no endereço 1"
   ]
  },
  {
   "cell_type": "markdown",
   "id": "severe-hello",
   "metadata": {},
   "source": [
    "Preciso adicionar uma implementação em C futuramente."
   ]
  },
  {
   "cell_type": "markdown",
   "id": "single-terrace",
   "metadata": {},
   "source": [
    "### Linear Probing"
   ]
  },
  {
   "cell_type": "markdown",
   "id": "concerned-defeat",
   "metadata": {},
   "source": [
    "Linear probing resolve as colisões sem adicionar uma outra estrutura, portanto esse método tem um custo menor de memória. \n",
    "\n",
    "Quando existe uma colisão o elemento que esta colidindo é inserido em um endereço **(i + K)%N** na mesma tabela e esse processo é feito até encontrar um endereço vazio (cuidado pois pode ocorrer um loop aqui). K é um número que podemos escolher de várias formas diferentes, como por exemplo.\n",
    "\n",
    "* K = 1, praticamente insere na proxima casa\n",
    "* K, sendo um número natural qualquer... então insere K casas depois \n",
    "* K = i^2, bom eu acho que vc já entendeu. Esse aqui chamamos de quadratic probing\n",
    "\n",
    "Vamos exemplificar rapidamente isso."
   ]
  },
  {
   "cell_type": "code",
   "execution_count": 53,
   "id": "personalized-builder",
   "metadata": {},
   "outputs": [
    {
     "name": "stdout",
     "output_type": "stream",
     "text": [
      "[200, 21, 41, None, None, None, 41, None, None, None]\n"
     ]
    }
   ],
   "source": [
    "from typing import List\n",
    "Vector = List # em python, listas são implementas em blocos (vetores) então vamos dar essa licença poética\n",
    "\n",
    "N = 10\n",
    "# cria um vetor apontando para None\n",
    "hashtable: Vector[List[int]] = [None for _ in range(N)]\n",
    "\n",
    "def hash_f(x):\n",
    "    return x%N\n",
    "\n",
    "def insert_element(element: int) -> None:\n",
    "    address:int  = hash_f(element)\n",
    "        \n",
    "    # vamos tentar inserir apenas 3 vezes\n",
    "    # se não conseguirmos vamos apenas mostrar\n",
    "    # uma mensagem\n",
    "    for _ in range(3):\n",
    "        if hashtable[address] == None:\n",
    "            hashtable[address] = element\n",
    "            break\n",
    "        else:\n",
    "            # quadratic probing\n",
    "            address = (address + address**2)%N\n",
    "\n",
    "insert_element(200)\n",
    "insert_element(20)\n",
    "insert_element(21)\n",
    "insert_element(41)\n",
    "insert_element(41)\n",
    "\n",
    "\n",
    "print(hashtable)"
   ]
  },
  {
   "cell_type": "markdown",
   "id": "auburn-strike",
   "metadata": {},
   "source": [
    "### Clustering\n",
    "\n",
    "WIP"
   ]
  },
  {
   "cell_type": "markdown",
   "id": "first-cause",
   "metadata": {},
   "source": [
    "### Double Hashing\n",
    "WIP"
   ]
  },
  {
   "cell_type": "markdown",
   "id": "statewide-immigration",
   "metadata": {},
   "source": [
    "### Provas matemáticas\n",
    "\n",
    "WIP"
   ]
  }
 ],
 "metadata": {
  "kernelspec": {
   "display_name": "cardio2",
   "language": "python",
   "name": "cardio2"
  },
  "language_info": {
   "codemirror_mode": {
    "name": "ipython",
    "version": 3
   },
   "file_extension": ".py",
   "mimetype": "text/x-python",
   "name": "python",
   "nbconvert_exporter": "python",
   "pygments_lexer": "ipython3",
   "version": "3.8.6"
  }
 },
 "nbformat": 4,
 "nbformat_minor": 5
}
